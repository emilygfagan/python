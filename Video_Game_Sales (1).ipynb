{
 "cells": [
  {
   "cell_type": "markdown",
   "id": "7d14b63f",
   "metadata": {},
   "source": [
    "# Importing Video Game Sales Dataset into Python to show the first five lines of the dataset using Pandas."
   ]
  },
  {
   "cell_type": "code",
   "execution_count": 1,
   "id": "dab5b491",
   "metadata": {},
   "outputs": [],
   "source": [
    "import pandas as pd"
   ]
  },
  {
   "cell_type": "code",
   "execution_count": 2,
   "id": "e3841b35",
   "metadata": {},
   "outputs": [],
   "source": [
    "VG = pd.read_csv('Video_Game_Sales_Raw.csv')"
   ]
  },
  {
   "cell_type": "code",
   "execution_count": 3,
   "id": "026f3f40",
   "metadata": {},
   "outputs": [
    {
     "name": "stdout",
     "output_type": "stream",
     "text": [
      "                    Game  Year             Genre  \\\n",
      "0  Red Dead Redemption 2  2020  Action-Adventure   \n",
      "1       Spider-Man (PS4)  2020  Action-Adventure   \n",
      "2       God of War (PS4)  2020            Action   \n",
      "3  Monster Hunter: World  2020            Action   \n",
      "4              Far Cry 5  2020            Action   \n",
      "\n",
      "                        Publisher  North_America_Sales_M$  Europe_Sales_M$  \\\n",
      "0                  Rockstar Games                    5.26             6.21   \n",
      "1  Sony Interactive Entertainment                    3.64             3.39   \n",
      "2  Sony Interactive Entertainment                    2.83             2.17   \n",
      "3                          Capcom                    1.03             1.06   \n",
      "4                         Ubisoft                    1.44             1.73   \n",
      "\n",
      "   Japan_Sales_M$  Other_Sales_M$  Global_Sales_M$  Unnamed: 9 Unnamed: 10  \n",
      "0            0.21            2.26            13.94         NaN         NaN  \n",
      "1            0.32            1.41             8.76         NaN         NaN  \n",
      "2            0.13            1.02             6.15         NaN         NaN  \n",
      "3            2.17            0.42             4.67         NaN         NaN  \n",
      "4            0.15            0.62             3.95         NaN         NaN  \n"
     ]
    }
   ],
   "source": [
    "print(VG.head())"
   ]
  }
 ],
 "metadata": {
  "kernelspec": {
   "display_name": "Python 3 (ipykernel)",
   "language": "python",
   "name": "python3"
  },
  "language_info": {
   "codemirror_mode": {
    "name": "ipython",
    "version": 3
   },
   "file_extension": ".py",
   "mimetype": "text/x-python",
   "name": "python",
   "nbconvert_exporter": "python",
   "pygments_lexer": "ipython3",
   "version": "3.11.3"
  }
 },
 "nbformat": 4,
 "nbformat_minor": 5
}
