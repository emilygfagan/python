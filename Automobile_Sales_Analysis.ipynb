{
 "cells": [
  {
   "cell_type": "markdown",
   "id": "90c87708",
   "metadata": {},
   "source": [
    "# Importing the Automobile Sales Analysis Dataset into Python to show the first five lines of the dataset using Pandas."
   ]
  },
  {
   "cell_type": "code",
   "execution_count": 1,
   "id": "ed9c463d",
   "metadata": {},
   "outputs": [],
   "source": [
    "import pandas as pd"
   ]
  },
  {
   "cell_type": "code",
   "execution_count": 2,
   "id": "4c3280a9",
   "metadata": {},
   "outputs": [],
   "source": [
    "ASA = pd.read_csv(\"Automobile_Sales_Analysis_Raw.csv\")"
   ]
  },
  {
   "cell_type": "code",
   "execution_count": 3,
   "id": "bb118d87",
   "metadata": {},
   "outputs": [
    {
     "name": "stdout",
     "output_type": "stream",
     "text": [
      "<bound method NDFrame.head of      Manufacturer      Model Variant  Displacement  Cylinders  \\\n",
      "0            Tata  Nano Genx       D         624.0        2.0   \n",
      "1            Tata  Nano Genx       T         624.0        2.0   \n",
      "2            Tata  Nano Genx       A         624.0        2.0   \n",
      "3            Tata  Nano Genx       S         624.0        2.0   \n",
      "4            Tata  Nano Genx   1.0 S         624.0        2.0   \n",
      "...           ...        ...     ...           ...        ...   \n",
      "1271        Honda       City     NaN        1498.0        4.0   \n",
      "1272        Honda       City     NaN        1498.0        4.0   \n",
      "1273        Honda       City     NaN        1497.0        4.0   \n",
      "1274        Honda       City     NaN        1497.0        4.0   \n",
      "1275   Mitsubishi    Montero     NaN        3200.0        4.0   \n",
      "\n",
      "      Valves_Per_Cylinder  Fuel_Tank_Capacity(gallon) Fuel_Type  Height_in  \\\n",
      "0                     2.0                    6.340129    Petrol     1652.0   \n",
      "1                     2.0                    6.340129    Petrol     1652.0   \n",
      "2                     2.0                    3.962581       CNG     1652.0   \n",
      "3                     2.0                    6.340129    Petrol     1652.0   \n",
      "4                     2.0                    6.340129    Petrol     1652.0   \n",
      "...                   ...                         ...       ...        ...   \n",
      "1271                  4.0                   10.566882    Diesel     1495.0   \n",
      "1272                  4.0                   10.566882    Diesel     1495.0   \n",
      "1273                  4.0                   10.566882    Petrol     1495.0   \n",
      "1274                  4.0                   10.566882    Petrol     1495.0   \n",
      "1275                  4.0                   23.247141    Diesel     1900.0   \n",
      "\n",
      "      Length_in  ...  Gross_Vehicle_Weight(in pounds) Door_Ajar_Warning  \\\n",
      "0        3164.0  ...                              NaN               NaN   \n",
      "1        3164.0  ...                              NaN               NaN   \n",
      "2        3164.0  ...                              NaN               NaN   \n",
      "3        3164.0  ...                              NaN               NaN   \n",
      "4        3164.0  ...                              NaN               NaN   \n",
      "...         ...  ...                              ...               ...   \n",
      "1271     4440.0  ...                              NaN               Yes   \n",
      "1272     4440.0  ...                              NaN               Yes   \n",
      "1273     4440.0  ...                              NaN               Yes   \n",
      "1274     4440.0  ...                              NaN               Yes   \n",
      "1275     4900.0  ...                              NaN               Yes   \n",
      "\n",
      "      Fasten_Seat_Belt_Warning  Gear_Shift_Reminder  Number_of_Airbags  \\\n",
      "0                          NaN                  NaN                NaN   \n",
      "1                          NaN                  NaN                NaN   \n",
      "2                          NaN                  NaN                NaN   \n",
      "3                          NaN                  NaN                NaN   \n",
      "4                          NaN                  NaN                NaN   \n",
      "...                        ...                  ...                ...   \n",
      "1271                       Yes                  NaN                2.0   \n",
      "1272                       Yes                  NaN                6.0   \n",
      "1273                       Yes                  NaN                6.0   \n",
      "1274                       Yes                  NaN                2.0   \n",
      "1275                       Yes                  Yes                6.0   \n",
      "\n",
      "     Compression_Ratio Average_Speed  EBA_(Electronic_Brake_Assist)  \\\n",
      "0                  NaN           NaN                            NaN   \n",
      "1                  NaN           NaN                            NaN   \n",
      "2                  NaN           NaN                            NaN   \n",
      "3                  NaN           NaN                            NaN   \n",
      "4                  NaN           NaN                            NaN   \n",
      "...                ...           ...                            ...   \n",
      "1271            10.4:1           Yes                            NaN   \n",
      "1272            10.4:1           Yes                            NaN   \n",
      "1273            10.4:1           Yes                            NaN   \n",
      "1274            10.4:1           Yes                            NaN   \n",
      "1275               NaN           Yes                            Yes   \n",
      "\n",
      "      ASR_/_Traction_Control  Cruise_Control  \n",
      "0                        NaN             NaN  \n",
      "1                        NaN             NaN  \n",
      "2                        NaN             NaN  \n",
      "3                        NaN             NaN  \n",
      "4                        NaN             NaN  \n",
      "...                      ...             ...  \n",
      "1271                     NaN             Yes  \n",
      "1272                     NaN             Yes  \n",
      "1273                     NaN             Yes  \n",
      "1274                     NaN             Yes  \n",
      "1275                     Yes             Yes  \n",
      "\n",
      "[1276 rows x 39 columns]>\n"
     ]
    }
   ],
   "source": [
    "print(ASA.head) #previewing the first five lines of the dataset using head()"
   ]
  },
  {
   "cell_type": "code",
   "execution_count": 4,
   "id": "96f396e0",
   "metadata": {},
   "outputs": [
    {
     "data": {
      "text/plain": [
       "['Manufacturer',\n",
       " 'Model',\n",
       " 'Variant',\n",
       " 'Displacement',\n",
       " 'Cylinders',\n",
       " 'Valves_Per_Cylinder',\n",
       " 'Fuel_Tank_Capacity(gallon)',\n",
       " 'Fuel_Type',\n",
       " 'Height_in',\n",
       " 'Length_in',\n",
       " 'Width_in',\n",
       " 'Body_Type',\n",
       " 'Doors',\n",
       " 'City_Mileage(miles/gallon)',\n",
       " 'Highway_Mileage(miles/gallon)',\n",
       " 'Government_Certified_Mileage(miles/gallon)',\n",
       " 'Kerb_Weight(in pounds)',\n",
       " 'Ground_Clearance(in inches)',\n",
       " 'Front_Track(in inches)',\n",
       " 'Seating_Capacity',\n",
       " 'Central_Locking',\n",
       " 'Child_Safety_Locks',\n",
       " 'Minimum_Turning_Radius',\n",
       " 'Hill_Assist',\n",
       " 'Gear_Indicator',\n",
       " '3_Point_Seat-Belt_in_Middle_Rear_Seat',\n",
       " 'High_Speed_Alert_System',\n",
       " 'Passenger_Side_Seat-Belt_Reminder',\n",
       " 'ABS_(Anti-lock_Braking_System)',\n",
       " 'Gross_Vehicle_Weight(in pounds)',\n",
       " 'Door_Ajar_Warning',\n",
       " 'Fasten_Seat_Belt_Warning',\n",
       " 'Gear_Shift_Reminder',\n",
       " 'Number_of_Airbags',\n",
       " 'Compression_Ratio',\n",
       " 'Average_Speed',\n",
       " 'EBA_(Electronic_Brake_Assist)',\n",
       " 'ASR_/_Traction_Control',\n",
       " 'Cruise_Control']"
      ]
     },
     "execution_count": 4,
     "metadata": {},
     "output_type": "execute_result"
    }
   ],
   "source": [
    "list(ASA.columns) #displaying a list of all the column names"
   ]
  }
 ],
 "metadata": {
  "kernelspec": {
   "display_name": "Python 3 (ipykernel)",
   "language": "python",
   "name": "python3"
  },
  "language_info": {
   "codemirror_mode": {
    "name": "ipython",
    "version": 3
   },
   "file_extension": ".py",
   "mimetype": "text/x-python",
   "name": "python",
   "nbconvert_exporter": "python",
   "pygments_lexer": "ipython3",
   "version": "3.11.3"
  }
 },
 "nbformat": 4,
 "nbformat_minor": 5
}
