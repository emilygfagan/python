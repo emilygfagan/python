{
 "cells": [
  {
   "cell_type": "markdown",
   "id": "1a9d13d4",
   "metadata": {},
   "source": [
    "## Days of the Week 2"
   ]
  },
  {
   "cell_type": "markdown",
   "id": "80c7fc8b",
   "metadata": {},
   "source": [
    "#### Assignment from page 81 in textbook, _How to Think Like a Computer Scientist: Learning Python 3 Documentation_."
   ]
  },
  {
   "cell_type": "markdown",
   "id": "b2aac369",
   "metadata": {},
   "source": [
    "2. Write a function day_name that converts an integer number 0 to 6 into the name of a day. Assume day 0 is “Sunday”. Once again, return None if the arguments to the function are not valid. Here are some tests that should pass:<br>\n",
    "test(day_name(3) == \"Wednesday\")<br>\n",
    "test(day_name(6) == \"Saturday\")<br>\n",
    "test(day_name(42) == None)"
   ]
  },
  {
   "cell_type": "code",
   "execution_count": 1,
   "id": "bec3f45d",
   "metadata": {},
   "outputs": [],
   "source": [
    "import sys\n",
    "days = [\"Sunday\", \"Monday\", \"Tuesday\", \"Wednesday\", \"Thursday\", \"Friday\", \"Saturday\"]"
   ]
  },
  {
   "cell_type": "code",
   "execution_count": 2,
   "id": "850cf2cd",
   "metadata": {},
   "outputs": [],
   "source": [
    "def day_name(num):\n",
    "    if num < 0 or num > 6:\n",
    "        return None\n",
    "    return days[num]"
   ]
  },
  {
   "cell_type": "markdown",
   "id": "ed64caf7",
   "metadata": {},
   "source": [
    "3. Write the inverse function day_num which is given a day name, and returns its number:<br>\n",
    "test(day_num(\"Friday\") == 5)<br>\n",
    "test(day_num(\"Sunday\") == 0)<br>\n",
    "test(day_num(day_name(3)) == 3)<br>\n",
    "test(day_name(day_num(\"Thursday\")) == \"Thursday\")<br>\n",
    "Once again, if this function is given an invalid argument, it should return None:<br>\n",
    "test(day_num(\"Halloween\") == None)"
   ]
  },
  {
   "cell_type": "code",
   "execution_count": 3,
   "id": "17f44e75",
   "metadata": {},
   "outputs": [],
   "source": [
    "def day_num(day):\n",
    "    if day in days:\n",
    "        return days.index(day)\n",
    "    else:\n",
    "        return None"
   ]
  },
  {
   "cell_type": "markdown",
   "id": "95a6c4c0",
   "metadata": {},
   "source": [
    "4. Write a function that helps answer questions like “‘Today is Wednesday. I leave on\n",
    "holiday in 19 days time. What day will that be?”’ So the function must take a day name and a delta argument — the number of days to add — and should return the resulting day name:<br>\n",
    "test(day_add(\"Monday\", 4) == \"Friday\")<br>\n",
    "test(day_add(\"Tuesday\", 0) == \"Tuesday\")<br>\n",
    "test(day_add(\"Tuesday\", 14) == \"Tuesday\")<br>\n",
    "test(day_add(\"Sunday\", 100) == \"Tuesday\")<br>"
   ]
  },
  {
   "cell_type": "code",
   "execution_count": 4,
   "id": "84deb6d7",
   "metadata": {},
   "outputs": [],
   "source": [
    "def day_add(day, delta):\n",
    "    number = (day_num(day) + delta) % 7\n",
    "    return day_name(number)"
   ]
  },
  {
   "cell_type": "markdown",
   "id": "ce7e9f9a",
   "metadata": {},
   "source": [
    "Tests:"
   ]
  },
  {
   "cell_type": "code",
   "execution_count": 5,
   "id": "0f8f51ea",
   "metadata": {},
   "outputs": [
    {
     "name": "stdout",
     "output_type": "stream",
     "text": [
      "Test at line 10 ok.\n",
      "Test at line 11 ok.\n",
      "Test at line 12 ok.\n",
      "Test at line 14 ok.\n",
      "Test at line 15 ok.\n",
      "Test at line 16 ok.\n",
      "Test at line 17 ok.\n",
      "Test at line 18 ok.\n",
      "Test at line 20 ok.\n",
      "Test at line 21 ok.\n",
      "Test at line 22 ok.\n",
      "Test at line 24 ok.\n",
      "Test at line 25 ok.\n",
      "Test at line 26 ok.\n"
     ]
    }
   ],
   "source": [
    "def test(did_pass):\n",
    "    linenum = sys._getframe(1).f_lineno\n",
    "    if did_pass:\n",
    "        msg = f\"Test at line {linenum} ok.\"\n",
    "    else:\n",
    "        msg = f\"Test at line {linenum} FAILED.\"\n",
    "    print(msg)\n",
    "\n",
    "def test_suite():\n",
    "    test(day_name(3) == \"Wednesday\")\n",
    "    test(day_name(6) == \"Saturday\")\n",
    "    test(day_name(42) == None)\n",
    "\n",
    "    test(day_num(\"Friday\") == 5)\n",
    "    test(day_num(\"Sunday\") == 0)\n",
    "    test(day_num(day_name(3)) == 3)\n",
    "    test(day_name(day_num(\"Thursday\")) == \"Thursday\")\n",
    "    test(day_num(\"Halloween\") == None)\n",
    "\n",
    "    test(day_add(\"Monday\", 4) == \"Friday\")\n",
    "    test(day_add(\"Tuesday\", 0) == \"Tuesday\")\n",
    "    test(day_add(\"Tuesday\", 14) == \"Tuesday\")\n",
    "\n",
    "    test(day_add(\"Sunday\", -1) == \"Saturday\")\n",
    "    test(day_add(\"Sunday\", -7) == \"Sunday\")\n",
    "    test(day_add(\"Tuesday\", -100) == \"Sunday\")\n",
    "\n",
    "test_suite()"
   ]
  }
 ],
 "metadata": {
  "kernelspec": {
   "display_name": "Python 3 (ipykernel)",
   "language": "python",
   "name": "python3"
  },
  "language_info": {
   "codemirror_mode": {
    "name": "ipython",
    "version": 3
   },
   "file_extension": ".py",
   "mimetype": "text/x-python",
   "name": "python",
   "nbconvert_exporter": "python",
   "pygments_lexer": "ipython3",
   "version": "3.11.3"
  }
 },
 "nbformat": 4,
 "nbformat_minor": 5
}
